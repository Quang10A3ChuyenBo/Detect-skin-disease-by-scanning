{
 "cells": [
  {
   "cell_type": "code",
   "id": "initial_id",
   "metadata": {
    "collapsed": true,
    "ExecuteTime": {
     "end_time": "2024-11-17T11:32:03.795075Z",
     "start_time": "2024-11-17T11:32:03.791641Z"
    }
   },
   "source": [
    "import pandas as pd\n",
    "import shutil\n",
    "import os\n",
    "from PIL import Image\n",
    "import imagehash \n",
    "import re\n",
    "import random\n",
    "import numpy as np\n",
    "import matplotlib.pyplot as plt \n",
    "from tqdm import tqdm\n",
    "from pathlib import Path"
   ],
   "outputs": [],
   "execution_count": 3
  },
  {
   "metadata": {},
   "cell_type": "code",
   "outputs": [],
   "execution_count": null,
   "source": [
    "def resize_and_crop_images(input_directory, output_directory, min_size=450):\n",
    "    os.makedirs(output_directory, exist_ok=True)\n",
    "\n",
    "    for root, _, files in os.walk(input_directory):\n",
    "        for filename in files:\n",
    "            if filename.endswith(('.jpg', '.jpeg', '.png')):\n",
    "                img_path = os.path.join(root, filename)\n",
    "                try:\n",
    "                    img = Image.open(img_path)\n",
    "                    width, height = img.size\n",
    "\n",
    "                    if width > height:\n",
    "                        new_width = min_size\n",
    "                        new_height = int(height * (min_size / width))\n",
    "                    else:\n",
    "                        new_width = int(width * (min_size / height))\n",
    "                        new_height = min_size\n",
    "\n",
    "                    img_resized = img.resize((new_width, new_height), Image.Resampling.LANCZOS)\n",
    "\n",
    "                    left = (new_width - min_size) // 2\n",
    "                    top = (new_height - min_size) // 2\n",
    "                    right = left + min_size\n",
    "                    bottom = top + min_size\n",
    "                    img_cropped = img_resized.crop((left, top, right, bottom))\n",
    "\n",
    "                    relative_path = os.path.relpath(root, input_directory) \n",
    "                    output_subdir = os.path.join(output_directory, relative_path)\n",
    "                    os.makedirs(output_subdir, exist_ok=True)  \n",
    "                    output_path = os.path.join(output_subdir, filename)\n",
    "                    img_cropped.save(output_path)\n",
    "\n",
    "                except IOError as e:\n",
    "                    print(f\"Error processing image {filename}: {e}\")\n",
    "\n",
    "\n",
    "input_train_dir = \"img/ISIC_2019_Training_Input\" \n",
    "input_test_dir = \"img/ISIC_2019_Test_Input\" \n",
    "output_dir = \"img/Image_Dataset\"\n",
    "\n",
    "if os.path.exists(output_dir):\n",
    "    shutil.rmtree(output_dir)\n",
    "\n",
    "resize_and_crop_images(input_train_dir, output_dir)\n",
    "resize_and_crop_images(input_test_dir, output_dir)\n"
   ],
   "id": "8bf223e440a8759b"
  },
  {
   "metadata": {
    "ExecuteTime": {
     "end_time": "2024-11-17T12:59:28.427180Z",
     "start_time": "2024-11-17T12:59:05.732691Z"
    }
   },
   "cell_type": "code",
   "outputs": [
    {
     "name": "stdout",
     "output_type": "stream",
     "text": [
      "33569\n"
     ]
    }
   ],
   "execution_count": 16,
   "source": [
    "def find_min_dimension(directory):\n",
    "    \"\"\"Tìm kích thước (pixel) nhỏ nhất trong cả chiều rộng và chiều cao của tất cả ảnh.\"\"\"\n",
    "    min_width = float('inf') \n",
    "    min_height = float('inf')\n",
    "    sl = 0\n",
    "\n",
    "    for filename in os.listdir(directory):\n",
    "        if filename.endswith(('.jpg', '.jpeg', '.png')):\n",
    "            img_path = os.path.join(directory, filename)\n",
    "            try:\n",
    "                img = Image.open(img_path)\n",
    "                width, height = img.size\n",
    "                if width != 450 and height != 450:\n",
    "                    print(width,height,sep=\", \")\n",
    "                sl = sl+1\n",
    "            except IOError:\n",
    "                print(f\"Lỗi mở ảnh: {img_path}\")\n",
    "    print(sl)\n",
    "    min_dimension = min(min_width, min_height)\n",
    "\n",
    "directory_path = \"img/Image_Dataset\" \n",
    "min_pixel = find_min_dimension(directory_path)"
   ],
   "id": "6b7516622723ef17"
  },
  {
   "metadata": {
    "ExecuteTime": {
     "end_time": "2024-11-17T13:30:31.427186Z",
     "start_time": "2024-11-17T13:21:13.411899Z"
    }
   },
   "cell_type": "code",
   "source": [
    "def image_to_numpy_array(image_path):\n",
    "    try:\n",
    "        img = Image.open(image_path)\n",
    "        img_array = np.array(img)\n",
    "\n",
    "        if len(img_array.shape) == 2:\n",
    "            img_array = np.expand_dims(img_array, axis=-1)\n",
    "\n",
    "        return img_array\n",
    "    except IOError as e:\n",
    "        print(f\"Error opening image {image_path}: {e}\")\n",
    "        return None\n",
    "\n",
    "\n",
    "def process_images_to_numpy(input_dir, output_dir):\n",
    "    \"\"\"Converts all images in input_dir to NumPy arrays and saves them to output_dir.\"\"\"\n",
    "    os.makedirs(output_dir, exist_ok=True)  # Create output directory if it doesn't exist\n",
    "\n",
    "    for filename in os.listdir(input_dir):\n",
    "        if filename.endswith(('.jpg', '.jpeg', '.png')):\n",
    "            img_path = os.path.join(input_dir, filename)\n",
    "            img_array = image_to_numpy_array(img_path)\n",
    "\n",
    "            if img_array is not None:\n",
    "                output_path = os.path.join(output_dir, filename[:-4] + \".npy\")\n",
    "                np.save(output_path, img_array)\n",
    "\n",
    "\n",
    "# Example usage:\n",
    "input_directory = \"img/Image_Dataset\"  # Directory with resized images\n",
    "output_directory = \"numpy_arrays\"  # Directory to save NumPy arrays\n",
    "\n",
    "process_images_to_numpy(input_directory, output_directory)\n",
    "\n",
    "print(\"Conversion to NumPy arrays complete.\")"
   ],
   "id": "83e47c91801b2b95",
   "outputs": [
    {
     "name": "stdout",
     "output_type": "stream",
     "text": [
      "Conversion to NumPy arrays complete.\n"
     ]
    }
   ],
   "execution_count": 17
  },
  {
   "metadata": {},
   "cell_type": "code",
   "outputs": [],
   "execution_count": null,
   "source": "",
   "id": "95ec59ceab059263"
  }
 ],
 "metadata": {
  "kernelspec": {
   "display_name": "Python 3",
   "language": "python",
   "name": "python3"
  },
  "language_info": {
   "codemirror_mode": {
    "name": "ipython",
    "version": 2
   },
   "file_extension": ".py",
   "mimetype": "text/x-python",
   "name": "python",
   "nbconvert_exporter": "python",
   "pygments_lexer": "ipython2",
   "version": "2.7.6"
  }
 },
 "nbformat": 4,
 "nbformat_minor": 5
}
