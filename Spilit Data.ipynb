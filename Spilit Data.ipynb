{
 "cells": [
  {
   "metadata": {
    "ExecuteTime": {
     "end_time": "2024-11-17T17:08:16.670688Z",
     "start_time": "2024-11-17T17:08:15.277895Z"
    }
   },
   "cell_type": "code",
   "source": [
    "import numpy as np\n",
    "import random\n",
    "import os\n",
    "import shutil"
   ],
   "id": "d1aacf048f4f4e68",
   "outputs": [],
   "execution_count": 1
  },
  {
   "cell_type": "code",
   "id": "initial_id",
   "metadata": {
    "collapsed": true,
    "ExecuteTime": {
     "end_time": "2024-11-17T17:37:23.357233Z",
     "start_time": "2024-11-17T17:33:56.820606Z"
    }
   },
   "source": [
    "def split_data(input_dir, output_train_dir, output_val_dir, output_test_dir, train_ratio=0.7, val_ratio=0.1, test_ratio=0.2, num_shuffles=4, seed=42):\n",
    "    os.makedirs(output_train_dir, exist_ok=True)\n",
    "    os.makedirs(output_val_dir, exist_ok=True)\n",
    "    os.makedirs(output_test_dir, exist_ok=True)\n",
    "\n",
    "    numpy_files = [f for f in os.listdir(input_dir) if f.endswith('.npy')]\n",
    "    total_files = len(numpy_files)\n",
    "\n",
    "    if total_files == 0:\n",
    "        raise ValueError(\"No .npy files found in the input directory.\")\n",
    "\n",
    "    np.random.seed(seed)\n",
    "    files_array = np.array(numpy_files)\n",
    "    for _ in range(num_shuffles):\n",
    "        np.random.shuffle(files_array)\n",
    "\n",
    "    train_end = int(total_files * train_ratio)\n",
    "    val_end = train_end + int(total_files * val_ratio)\n",
    "\n",
    "    train_files = files_array[:train_end]\n",
    "    val_files = files_array[train_end:val_end]\n",
    "    test_files = files_array[val_end:]\n",
    "\n",
    "    def move_and_remove(source_dir, dest_dir, files):\n",
    "        for file in files:\n",
    "            source_path = os.path.join(source_dir, file)\n",
    "            dest_path = os.path.join(dest_dir, file)\n",
    "            try:\n",
    "                shutil.move(source_path, dest_path)\n",
    "            except (FileNotFoundError, shutil.Error) as e:\n",
    "                print(f\"Error moving file {file}: {e}\")\n",
    "\n",
    "    move_and_remove(input_dir, output_train_dir, train_files)\n",
    "    move_and_remove(input_dir, output_val_dir, val_files)\n",
    "    move_and_remove(input_dir, output_test_dir, test_files)\n",
    "\n",
    "    print(\"Data split complete. Original files removed from source directory.\")\n",
    "\n",
    "\n",
    "# Example usage (same as before):\n",
    "input_directory = \"numpy_arrays\"\n",
    "train_directory = \"numpy_arrays/train\"\n",
    "val_directory = \"numpy_arrays/val\"\n",
    "test_directory = \"numpy_arrays/test\"\n",
    "\n",
    "split_data(input_directory, train_directory, val_directory, test_directory, num_shuffles=4)"
   ],
   "outputs": [
    {
     "name": "stdout",
     "output_type": "stream",
     "text": [
      "Data split complete. Original files removed from source directory.\n"
     ]
    }
   ],
   "execution_count": 3
  },
  {
   "metadata": {},
   "cell_type": "code",
   "outputs": [],
   "execution_count": null,
   "source": "",
   "id": "abae6e833b822c91"
  }
 ],
 "metadata": {
  "kernelspec": {
   "display_name": "Python 3",
   "language": "python",
   "name": "python3"
  },
  "language_info": {
   "codemirror_mode": {
    "name": "ipython",
    "version": 2
   },
   "file_extension": ".py",
   "mimetype": "text/x-python",
   "name": "python",
   "nbconvert_exporter": "python",
   "pygments_lexer": "ipython2",
   "version": "2.7.6"
  }
 },
 "nbformat": 4,
 "nbformat_minor": 5
}
